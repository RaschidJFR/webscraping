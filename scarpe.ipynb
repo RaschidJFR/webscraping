{
 "cells": [
  {
   "cell_type": "code",
   "execution_count": 1,
   "id": "016d3889-07c3-43b2-ba36-da3c92838e85",
   "metadata": {},
   "outputs": [],
   "source": [
    "# Get html from url\n",
    "\n",
    "import requests\n",
    "\n",
    "url = 'https://koho.ca'  # Replace with the company's URL\n",
    "response = requests.get(url)\n",
    "html_content = response.text\n",
    "\n",
    "with open('temp.html', 'w') as file:\n",
    "    file.write(html_content)"
   ]
  },
  {
   "cell_type": "code",
   "execution_count": null,
   "id": "34b100e5",
   "metadata": {},
   "outputs": [],
   "source": [
    "# Extract text from html\n",
    "\n",
    "from bs4 import BeautifulSoup\n",
    "\n",
    "def extract_text_from_html(html_file):\n",
    "    with open(html_file, 'r', encoding='utf-8') as file:\n",
    "        html_content = file.read()\n",
    "\n",
    "    soup = BeautifulSoup(html_content, 'html.parser')\n",
    "\n",
    "    # Extract all text from the HTML\n",
    "    all_text = soup.get_text(separator='\\n')\n",
    "\n",
    "    return all_text\n",
    "\n",
    "html_file = 'temp.html'  # Replace with your HTML file path\n",
    "extracted_text = extract_text_from_html(html_file)\n",
    "with open('temp.txt', 'w') as file:\n",
    "  file.write(extracted_text)\n"
   ]
  }
 ],
 "metadata": {
  "kernelspec": {
   "display_name": "Python 3 (ipykernel)",
   "language": "python",
   "name": "python3"
  },
  "language_info": {
   "codemirror_mode": {
    "name": "ipython",
    "version": 3
   },
   "file_extension": ".py",
   "mimetype": "text/x-python",
   "name": "python",
   "nbconvert_exporter": "python",
   "pygments_lexer": "ipython3",
   "version": "3.12.4"
  }
 },
 "nbformat": 4,
 "nbformat_minor": 5
}
