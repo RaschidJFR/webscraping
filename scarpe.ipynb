{
 "cells": [
  {
   "cell_type": "code",
   "execution_count": 1,
   "id": "016d3889-07c3-43b2-ba36-da3c92838e85",
   "metadata": {},
   "outputs": [],
   "source": [
    "import scrapy\n",
    "\n",
    "class BlogSpider(scrapy.Spider):\n",
    "    name = 'blogspider'\n",
    "    start_urls = ['https://koho.com']\n",
    "\n",
    "    def parse(self, response):\n",
    "        for title in response.css('.oxy-post-title'):\n",
    "            yield {'title': title.css('::text').get()}\n",
    "\n",
    "        for next_page in response.css('a.next'):\n",
    "            yield response.follow(next_page, self.parse)"
   ]
  }
 ],
 "metadata": {
  "kernelspec": {
   "display_name": "Python 3 (ipykernel)",
   "language": "python",
   "name": "python3"
  },
  "language_info": {
   "codemirror_mode": {
    "name": "ipython",
    "version": 3
   },
   "file_extension": ".py",
   "mimetype": "text/x-python",
   "name": "python",
   "nbconvert_exporter": "python",
   "pygments_lexer": "ipython3",
   "version": "3.12.4"
  }
 },
 "nbformat": 4,
 "nbformat_minor": 5
}
