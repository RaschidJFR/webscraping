{
 "cells": [
  {
   "cell_type": "code",
   "execution_count": 6,
   "id": "016d3889-07c3-43b2-ba36-da3c92838e85",
   "metadata": {},
   "outputs": [],
   "source": [
    "# Get html from url\n",
    "\n",
    "import requests\n",
    "\n",
    "url = 'https://koho.ca'  # Replace with the company's URL\n",
    "response = requests.get(url)\n",
    "html_content = response.text\n",
    "\n",
    "with open('temp.html', 'w') as file:\n",
    "    file.write(html_content)"
   ]
  },
  {
   "cell_type": "code",
   "execution_count": 7,
   "id": "34b100e5",
   "metadata": {},
   "outputs": [],
   "source": [
    "# Extract text from html\n",
    "\n",
    "from bs4 import BeautifulSoup\n",
    "\n",
    "def extract_text_from_html(html_file):\n",
    "    with open(html_file, 'r', encoding='utf-8') as file:\n",
    "        html_content = file.read()\n",
    "\n",
    "    soup = BeautifulSoup(html_content, 'html.parser')\n",
    "\n",
    "    # Extract all text from the HTML\n",
    "    all_text = soup.get_text(separator='\\n')\n",
    "\n",
    "    return all_text\n",
    "\n",
    "html_file = 'temp.html'  # Replace with your HTML file path\n",
    "extracted_text = extract_text_from_html(html_file)\n",
    "with open('temp.txt', 'w') as file:\n",
    "  file.write(extracted_text)\n"
   ]
  },
  {
   "cell_type": "code",
   "execution_count": 8,
   "id": "bf467265",
   "metadata": {},
   "outputs": [
    {
     "name": "stdout",
     "output_type": "stream",
     "text": [
      "Generated Summary:\n",
      "KOHO is a no-fee spending and savings account where you can get instant cash back and earn interest on your entire account. You get a prepaid reloadable Mastercard that gives you all the spending power of a credit card without any fees or interest. It’s connected to a smart budgeting app that simplifies day-to-day finances.\n"
     ]
    }
   ],
   "source": [
    "from transformers import pipeline, AutoTokenizer, AutoModelForSeq2SeqLM\n",
    "\n",
    "# Load tokenizer and model for summarization\n",
    "model_name = \"facebook/bart-large-cnn\"  # Example model with large sequence length\n",
    "tokenizer = AutoTokenizer.from_pretrained(model_name)\n",
    "model = AutoModelForSeq2SeqLM.from_pretrained(model_name)\n",
    "\n",
    "# Function to summarize text\n",
    "def summarize_text(text, max_input_length=1024, max_output_length=150, min_output_length=30):\n",
    "    # Tokenize and truncate input text\n",
    "    inputs = tokenizer(text, max_length=max_input_length, truncation=True, return_tensors=\"pt\")\n",
    "\n",
    "    # Generate summary\n",
    "    summary_ids = model.generate(inputs[\"input_ids\"], max_length=max_output_length, min_length=min_output_length, num_beams=2, early_stopping=True)\n",
    "    summary = tokenizer.decode(summary_ids[0], skip_special_tokens=True)\n",
    "\n",
    "    return summary\n",
    "\n",
    "# Generate summary\n",
    "generated_summary = summarize_text(extracted_text)\n",
    "\n",
    "# Print generated summary\n",
    "print(\"Generated Summary:\")\n",
    "print(generated_summary)\n"
   ]
  }
 ],
 "metadata": {
  "kernelspec": {
   "display_name": "Python 3 (ipykernel)",
   "language": "python",
   "name": "python3"
  },
  "language_info": {
   "codemirror_mode": {
    "name": "ipython",
    "version": 3
   },
   "file_extension": ".py",
   "mimetype": "text/x-python",
   "name": "python",
   "nbconvert_exporter": "python",
   "pygments_lexer": "ipython3",
   "version": "3.12.4"
  }
 },
 "nbformat": 4,
 "nbformat_minor": 5
}
