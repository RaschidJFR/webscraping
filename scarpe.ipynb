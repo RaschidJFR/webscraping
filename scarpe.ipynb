{
 "cells": [
  {
   "cell_type": "code",
   "execution_count": null,
   "id": "5449ab61",
   "metadata": {},
   "outputs": [],
   "source": [
    "import csv\n",
    "from models import bart as model\n",
    "from scraper import WebsiteScraper\n",
    "\n",
    "def load_urls_from_csv(file_path, column_name):\n",
    "  urls = []\n",
    "  with open(file_path, mode='r') as file:\n",
    "      csv_reader = csv.DictReader(file)\n",
    "      for row in csv_reader:\n",
    "          if column_name in row:\n",
    "              urls.append(row[column_name])\n",
    "  return urls\n",
    "\n",
    "def get_summaries_from_websites(urls, debug=False):\n",
    "  summaries = []\n",
    "  for url in urls:\n",
    "    summary = ''\n",
    "    if url: \n",
    "      if debug: print (f\"{url}\")\n",
    "      scraper = WebsiteScraper(url, model)\n",
    "      scraper.scrape_text(True)\n",
    "      summary = scraper.generate_summary(True)\n",
    "      if debug: print(f\"{summary}\\n\")\n",
    "        \n",
    "    summaries.append(summary)\n",
    "    \n",
    "  return summaries\n",
    "\n",
    "urls = load_urls_from_csv('data/organizations.csv', 'homepage_url')\n",
    "get_summaries_from_websites(urls, True)"
   ]
  }
 ],
 "metadata": {
  "kernelspec": {
   "display_name": "Python 3 (ipykernel)",
   "language": "python",
   "name": "python3"
  },
  "language_info": {
   "codemirror_mode": {
    "name": "ipython",
    "version": 3
   },
   "file_extension": ".py",
   "mimetype": "text/x-python",
   "name": "python",
   "nbconvert_exporter": "python",
   "pygments_lexer": "ipython3",
   "version": "3.12.4"
  }
 },
 "nbformat": 4,
 "nbformat_minor": 5
}
