{
 "cells": [
  {
   "cell_type": "code",
   "execution_count": 4,
   "id": "5449ab61",
   "metadata": {},
   "outputs": [
    {
     "name": "stdout",
     "output_type": "stream",
     "text": [
      "\n",
      "https://fullyfunctional.com.au/\n",
      "[Site inaccessible: 405 Client Error: Method Not Allowed for url: https://fullyfunctional.com.au/]\n",
      "\n",
      "http://qubecell.com\n",
      "[Site inaccessible: 405 Client Error: Not Allowed for url: http://ww16.qubecell.com/?sub1=20240714-0904-3649-94ef-906323ceb19e]\n",
      "\n",
      "http://www.albert2005.co.jp/\n",
      "[Server unreachable]\n",
      "\n",
      "https://criticalforce.fi/presskit/\n"
     ]
    },
    {
     "name": "stderr",
     "output_type": "stream",
     "text": [
      "HTTPConnectionPool(host='www.albert2005.co.jp', port=80): Max retries exceeded with url: / (Caused by NewConnectionError('<urllib3.connection.HTTPConnection object at 0x11125be90>: Failed to establish a new connection: [Errno 61] Connection refused'))\n"
     ]
    },
    {
     "name": "stdout",
     "output_type": "stream",
     "text": [
      "[Site inaccessible: 404 Client Error: Not Found for url: https://criticalforce.fi/presskit/]\n",
      "\n",
      "http://www.indovance.com\n",
      "[Site accessible: OK]\n",
      "\n",
      "http://specdox.com\n",
      "[specdox.com -> scriptpreneur.com]: [Site accessible: OK]\n",
      "\n",
      "http://foxonline.com\n",
      "[foxonline.com -> abracon.com]: [Site inaccessible: 403 Client Error: Forbidden for url: https://abracon.com/brands/fox?utm_source=foxonline.com&utm_medium=301]\n"
     ]
    }
   ],
   "source": [
    "import csv\n",
    "from scraper import WebsiteScraper\n",
    "\n",
    "def load_urls_from_csv(file_path, column_name):\n",
    "  urls = []\n",
    "  with open(file_path, mode='r') as file:\n",
    "      csv_reader = csv.DictReader(file)\n",
    "      for row in csv_reader:\n",
    "          if column_name in row:\n",
    "              urls.append(row[column_name])\n",
    "  return urls\n",
    "\n",
    "def print_summaries_from_websites(urls):\n",
    "  for url in urls:\n",
    "    if url: \n",
    "      print (f\"\\n{url}\")\n",
    "      scraper = WebsiteScraper(url)\n",
    "      connectivity = scraper.test_connectivity()\n",
    "      print(connectivity)\n",
    "        \n",
    "csv_path = 'data/organizations.csv'\n",
    "\n",
    "urls = [\n",
    "  # head, get, reason, expected\n",
    "  'https://fullyfunctional.com.au/', # 405, 200, parked page from registrar, display 405 [x]\n",
    "  'http://qubecell.com', # 405, 200, redirect to subdomain parked, display 405 [x]\n",
    "  'http://www.albert2005.co.jp/', # max connection error, max connection error, redirect to external path, catch redirect [ ]\n",
    "  'https://criticalforce.fi/presskit/', # 404, 404, page unexistent but domain active, display 404 [x]\n",
    "  'http://www.indovance.com', # head 404, get 200, seems ok, retry on 404 [x]\n",
    "  'http://specdox.com', # 200, n/a, redirects, catch redirect [x]\n",
    "  'http://foxonline.com', # 403, 403, redirect to external path, catch redirect & display 403 [x]\n",
    "]\n",
    "\n",
    "# urls = load_urls_from_csv(csv_path, 'homepage_url')\n",
    "print_summaries_from_websites(urls)"
   ]
  }
 ],
 "metadata": {
  "kernelspec": {
   "display_name": "Python 3 (ipykernel)",
   "language": "python",
   "name": "python3"
  },
  "language_info": {
   "codemirror_mode": {
    "name": "ipython",
    "version": 3
   },
   "file_extension": ".py",
   "mimetype": "text/x-python",
   "name": "python",
   "nbconvert_exporter": "python",
   "pygments_lexer": "ipython3",
   "version": "3.12.4"
  }
 },
 "nbformat": 4,
 "nbformat_minor": 5
}
