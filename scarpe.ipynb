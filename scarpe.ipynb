{
 "cells": [
  {
   "cell_type": "code",
   "execution_count": 51,
   "id": "016d3889-07c3-43b2-ba36-da3c92838e85",
   "metadata": {},
   "outputs": [],
   "source": [
    "import requests\n",
    "from bs4 import BeautifulSoup\n",
    "from models import bart as model\n",
    "\n",
    "def get_html(url, debug=False):\n",
    "    response = requests.get(url)\n",
    "    html = response.text\n",
    "    \n",
    "    if debug:\n",
    "        with open('temp.html', 'w') as file:\n",
    "            file.write(html)\n",
    "            \n",
    "    return html\n",
    "\n",
    "def extract_text_from_html(html, debug=False):\n",
    "    soup = BeautifulSoup(html, 'html.parser')\n",
    "    for a in soup.find_all('a'):\n",
    "       a.decompose()\n",
    "    text = soup.get_text(separator='\\n')\n",
    "    \n",
    "    if debug:\n",
    "        with open('temp.txt', 'w') as file:\n",
    "            file.write(text)\n",
    "    \n",
    "    return text\n",
    "\n",
    "def get_summary_from_website(url, debug=False):\n",
    "    html = get_html(url, debug)\n",
    "    txt = extract_text_from_html(html, debug)\n",
    "    summary = model.summarize(txt)\n",
    "    return summary\n"
   ]
  },
  {
   "cell_type": "code",
   "execution_count": null,
   "id": "5449ab61",
   "metadata": {},
   "outputs": [],
   "source": [
    "url = 'https://brimfinancial.com/'\n",
    "get_summary_from_website(url, True)"
   ]
  }
 ],
 "metadata": {
  "kernelspec": {
   "display_name": "Python 3 (ipykernel)",
   "language": "python",
   "name": "python3"
  },
  "language_info": {
   "codemirror_mode": {
    "name": "ipython",
    "version": 3
   },
   "file_extension": ".py",
   "mimetype": "text/x-python",
   "name": "python",
   "nbconvert_exporter": "python",
   "pygments_lexer": "ipython3",
   "version": "3.12.4"
  }
 },
 "nbformat": 4,
 "nbformat_minor": 5
}
